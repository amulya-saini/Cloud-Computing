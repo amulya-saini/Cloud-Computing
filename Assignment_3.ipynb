{
  "nbformat": 4,
  "nbformat_minor": 0,
  "metadata": {
    "colab": {
      "provenance": []
    },
    "kernelspec": {
      "name": "python3",
      "display_name": "Python 3"
    },
    "language_info": {
      "name": "python"
    }
  },
  "cells": [
    {
      "cell_type": "markdown",
      "source": [
        "Study group: Amulya saini, Datta Sujay Ayyagari"
      ],
      "metadata": {
        "id": "kbX4BkyQcxDJ"
      }
    },
    {
      "cell_type": "code",
      "execution_count": 1,
      "metadata": {
        "id": "TRx55CGvdNGj"
      },
      "outputs": [],
      "source": [
        "# installing open java development kit\n",
        "!apt-get install openjdk-8-jdk-headless -qq > /dev/null\n",
        "\n",
        "# getting spark package\n",
        "!wget -q https://archive.apache.org/dist/spark/spark-3.2.0/spark-3.2.0-bin-hadoop3.2.tgz\n",
        "\n",
        "# unzipping\n",
        "!tar xf spark-3.2.0-bin-hadoop3.2.tgz\n",
        "\n",
        "# Installing findspark\n",
        "!pip install -q findspark"
      ]
    },
    {
      "cell_type": "code",
      "source": [
        "# importing OS\n",
        "import os\n",
        "\n",
        "# setting java environment\n",
        "os.environ[\"JAVA_HOME\"] = \"/usr/lib/jvm/java-8-openjdk-amd64\"\n",
        "\n",
        "# setting spark environment\n",
        "os.environ[\"SPARK_HOME\"] = \"spark-3.2.0-bin-hadoop3.2\""
      ],
      "metadata": {
        "id": "cjZQMD00dPTM"
      },
      "execution_count": 2,
      "outputs": []
    },
    {
      "cell_type": "code",
      "source": [
        "# importing spark\n",
        "import findspark\n",
        "\n",
        "# initializing spark\n",
        "findspark.init()"
      ],
      "metadata": {
        "id": "zw6svJkBdQ87"
      },
      "execution_count": 3,
      "outputs": []
    },
    {
      "cell_type": "code",
      "source": [
        "# importing spark session\n",
        "from pyspark.sql import SparkSession\n",
        "\n",
        "# creating spark session\n",
        "spark = SparkSession.builder.master(\"local[*]\").getOrCreate()\n",
        "\n",
        "# getting sparkcontext from spark\n",
        "sc = spark.sparkContext\n",
        "\n",
        "# print\n",
        "sc"
      ],
      "metadata": {
        "colab": {
          "base_uri": "https://localhost:8080/",
          "height": 196
        },
        "id": "Lk77Q3EddVYr",
        "outputId": "06d91a2d-dcbb-45b1-cb51-ce0e9440279c"
      },
      "execution_count": 4,
      "outputs": [
        {
          "output_type": "execute_result",
          "data": {
            "text/plain": [
              "<SparkContext master=local[*] appName=pyspark-shell>"
            ],
            "text/html": [
              "\n",
              "        <div>\n",
              "            <p><b>SparkContext</b></p>\n",
              "\n",
              "            <p><a href=\"http://d290cac8fc5d:4040\">Spark UI</a></p>\n",
              "\n",
              "            <dl>\n",
              "              <dt>Version</dt>\n",
              "                <dd><code>v3.2.0</code></dd>\n",
              "              <dt>Master</dt>\n",
              "                <dd><code>local[*]</code></dd>\n",
              "              <dt>AppName</dt>\n",
              "                <dd><code>pyspark-shell</code></dd>\n",
              "            </dl>\n",
              "        </div>\n",
              "        "
            ]
          },
          "metadata": {},
          "execution_count": 4
        }
      ]
    },
    {
      "cell_type": "code",
      "source": [
        "# importing Linear regression\n",
        "from pyspark.ml.regression import LinearRegression\n",
        "\n",
        "# importing Vector Assembler\n",
        "from pyspark.ml.feature import VectorAssembler"
      ],
      "metadata": {
        "id": "Fl2sAiHnkSBr"
      },
      "execution_count": 5,
      "outputs": []
    },
    {
      "cell_type": "code",
      "source": [
        "# defining the path to the csv file\n",
        "path = \"nyc_taxi.csv\""
      ],
      "metadata": {
        "id": "Qg3JPus2hgVF"
      },
      "execution_count": 6,
      "outputs": []
    },
    {
      "cell_type": "code",
      "source": [
        "# reading the csv file as spark dataframe\n",
        "df = spark.read.option(\"header\",True).csv(path)"
      ],
      "metadata": {
        "id": "dY2hnl1fiPa-"
      },
      "execution_count": 7,
      "outputs": []
    },
    {
      "cell_type": "code",
      "source": [
        "# printing the schema\n",
        "df.printSchema()"
      ],
      "metadata": {
        "colab": {
          "base_uri": "https://localhost:8080/"
        },
        "id": "5G_fFDSeiZ74",
        "outputId": "908152fe-7702-4ed1-a815-e295485ddf7b"
      },
      "execution_count": 8,
      "outputs": [
        {
          "output_type": "stream",
          "name": "stdout",
          "text": [
            "root\n",
            " |-- pickup_date: string (nullable = true)\n",
            " |-- pickup_time: string (nullable = true)\n",
            " |-- dropoff_date: string (nullable = true)\n",
            " |-- dropoff_time: string (nullable = true)\n",
            " |-- distance: string (nullable = true)\n",
            " |-- tip: string (nullable = true)\n",
            " |-- fare: string (nullable = true)\n",
            "\n"
          ]
        }
      ]
    },
    {
      "cell_type": "code",
      "source": [
        "# importing FloatType\n",
        "from pyspark.sql.types import FloatType\n",
        "\n",
        "# Converting 'distance,' 'tip,' and 'fare' column values to floattype from stringtype\n",
        "df = df.withColumn(\"distance\", df[\"distance\"].cast(FloatType()))\n",
        "df = df.withColumn(\"tip\", df[\"tip\"].cast(FloatType()))\n",
        "df = df.withColumn(\"fare\", df[\"fare\"].cast(FloatType()))"
      ],
      "metadata": {
        "id": "9iBaNrzJtuBf"
      },
      "execution_count": 9,
      "outputs": []
    },
    {
      "cell_type": "code",
      "source": [
        "# importing concat, col, to_timestamp\n",
        "from pyspark.sql.functions import lit, concat, col, to_timestamp\n",
        "\n",
        "# Combining the 'pickup_date' and 'pickup_time' to create a single column and convert them to_timestamp format\n",
        "df = df.withColumn(\"pickup_datetime\", to_timestamp(concat(col(\"pickup_date\"), lit(\" \"), col(\"pickup_time\")), \"M/d/yyyy H:mm\"))\n",
        "\n",
        "# Combining the 'dropoff_date' and 'dropoff_time' to create a single column and convert them to_timestamp format\n",
        "df = df.withColumn(\"dropoff_datetime\", to_timestamp(concat(col(\"dropoff_date\"), lit(\" \"), col(\"dropoff_time\")), \"M/d/yyyy H:mm\"))\n"
      ],
      "metadata": {
        "id": "xLh3pxEnykaQ"
      },
      "execution_count": 10,
      "outputs": []
    },
    {
      "cell_type": "code",
      "source": [
        "# importing Longtype\n",
        "from pyspark.sql.types import LongType\n",
        "\n",
        "# calculating the duration by substracting the pick time from drop off time\n",
        "df = df.withColumn(\"duration\", ((col(\"dropoff_datetime\").cast(LongType()) - col(\"pickup_datetime\").cast(LongType())) / 60))"
      ],
      "metadata": {
        "id": "7z7FUx4c3AV_"
      },
      "execution_count": 11,
      "outputs": []
    },
    {
      "cell_type": "code",
      "source": [
        "# printing the schema after preprocessing\n",
        "df.printSchema()"
      ],
      "metadata": {
        "colab": {
          "base_uri": "https://localhost:8080/"
        },
        "id": "Ow2LBjPDzcxD",
        "outputId": "4c449317-dce8-4266-e6ab-afc04c0e9ba1"
      },
      "execution_count": 12,
      "outputs": [
        {
          "output_type": "stream",
          "name": "stdout",
          "text": [
            "root\n",
            " |-- pickup_date: string (nullable = true)\n",
            " |-- pickup_time: string (nullable = true)\n",
            " |-- dropoff_date: string (nullable = true)\n",
            " |-- dropoff_time: string (nullable = true)\n",
            " |-- distance: float (nullable = true)\n",
            " |-- tip: float (nullable = true)\n",
            " |-- fare: float (nullable = true)\n",
            " |-- pickup_datetime: timestamp (nullable = true)\n",
            " |-- dropoff_datetime: timestamp (nullable = true)\n",
            " |-- duration: double (nullable = true)\n",
            "\n"
          ]
        }
      ]
    },
    {
      "cell_type": "code",
      "source": [
        "# dataframe.show()\n",
        "df.show()"
      ],
      "metadata": {
        "colab": {
          "base_uri": "https://localhost:8080/"
        },
        "id": "__xgTv6dzdYp",
        "outputId": "ca01b15d-b8a3-40d5-fb68-5b55b604053e"
      },
      "execution_count": 13,
      "outputs": [
        {
          "output_type": "stream",
          "name": "stdout",
          "text": [
            "+-----------+-----------+------------+------------+--------+----+-----+-------------------+-------------------+--------+\n",
            "|pickup_date|pickup_time|dropoff_date|dropoff_time|distance| tip| fare|    pickup_datetime|   dropoff_datetime|duration|\n",
            "+-----------+-----------+------------+------------+--------+----+-----+-------------------+-------------------+--------+\n",
            "|   1/1/2017|       0:00|    1/1/2017|        0:00|    0.02| 0.0| 52.8|2017-01-01 00:00:00|2017-01-01 00:00:00|     0.0|\n",
            "|   1/1/2017|       0:00|    1/1/2017|        0:03|     0.5| 0.0|  5.3|2017-01-01 00:00:00|2017-01-01 00:03:00|     3.0|\n",
            "|   1/1/2017|       0:00|    1/1/2017|        0:39|    7.75|4.66|27.96|2017-01-01 00:00:00|2017-01-01 00:39:00|    39.0|\n",
            "|   1/1/2017|       0:00|    1/1/2017|        0:06|     0.8|1.45| 8.75|2017-01-01 00:00:00|2017-01-01 00:06:00|     6.0|\n",
            "|   1/1/2017|       0:00|    1/1/2017|        0:08|     0.9| 0.0|  8.3|2017-01-01 00:00:00|2017-01-01 00:08:00|     8.0|\n",
            "|   1/1/2017|       0:00|    1/1/2017|        0:05|    1.76| 0.0|  8.3|2017-01-01 00:00:00|2017-01-01 00:05:00|     5.0|\n",
            "|   1/1/2017|       0:00|    1/1/2017|        0:15|    8.47|7.71|38.55|2017-01-01 00:00:00|2017-01-01 00:15:00|    15.0|\n",
            "|   1/1/2017|       0:00|    1/1/2017|        0:11|     2.4| 0.0| 11.8|2017-01-01 00:00:00|2017-01-01 00:11:00|    11.0|\n",
            "|   1/1/2017|       0:00|    1/1/2017|        0:23|    12.6|10.0| 70.3|2017-01-01 00:00:00|2017-01-01 00:23:00|    23.0|\n",
            "|   1/1/2017|       0:00|    1/1/2017|        0:08|     0.9|2.05|10.35|2017-01-01 00:00:00|2017-01-01 00:08:00|     8.0|\n",
            "|   1/1/2017|       0:00|    1/1/2017|        0:09|    2.43| 2.7| 13.5|2017-01-01 00:00:00|2017-01-01 00:09:00|     9.0|\n",
            "|   1/1/2017|       0:00|    1/1/2017|        0:16|     2.6|2.76|16.56|2017-01-01 00:00:00|2017-01-01 00:16:00|    16.0|\n",
            "|   1/1/2017|       0:00|    1/1/2017|        0:18|    4.25| 0.0| 17.8|2017-01-01 00:00:00|2017-01-01 00:18:00|    18.0|\n",
            "|   1/1/2017|       0:00|    1/1/2017|        0:07|    0.65| 1.7|  9.5|2017-01-01 00:00:00|2017-01-01 00:07:00|     7.0|\n",
            "|   1/1/2017|       0:00|    1/1/2017|        0:34|    3.42| 0.0| 23.8|2017-01-01 00:00:00|2017-01-01 00:34:00|    34.0|\n",
            "|   1/1/2017|       0:00|    1/1/2017|        0:24|     6.6| 0.0| 24.3|2017-01-01 00:00:00|2017-01-01 00:24:00|    24.0|\n",
            "|   1/1/2017|       0:00|    1/1/2017|        0:02|     0.5| 0.0|  5.3|2017-01-01 00:00:00|2017-01-01 00:02:00|     2.0|\n",
            "|   1/1/2017|       0:00|    1/1/2017|        0:08|     1.2|1.75|10.55|2017-01-01 00:00:00|2017-01-01 00:08:00|     8.0|\n",
            "|   1/1/2017|       0:00|    1/1/2017|        0:12|     1.7| 0.0| 10.8|2017-01-01 00:00:00|2017-01-01 00:12:00|    12.0|\n",
            "|   1/1/2017|       0:00|    1/1/2017|        0:09|     5.3| 0.0| 17.3|2017-01-01 00:00:00|2017-01-01 00:09:00|     9.0|\n",
            "+-----------+-----------+------------+------------+--------+----+-----+-------------------+-------------------+--------+\n",
            "only showing top 20 rows\n",
            "\n"
          ]
        }
      ]
    },
    {
      "cell_type": "markdown",
      "source": [
        "Using Spark MLlib build a model to predict taxi fare from trip distance (Model: M1)\n"
      ],
      "metadata": {
        "id": "tvSJATM34q7e"
      }
    },
    {
      "cell_type": "code",
      "source": [
        "# Creating a VectorAssembler instance which combines the specified input columns into a single feature column.\n",
        "assembler = VectorAssembler(inputCols=[\"distance\"], outputCol=\"features\")\n",
        "\n",
        "# Transforming the dataframe by applying the 'assembler' to create a new DataFrame 'data' with a 'features' column.\n",
        "data = assembler.transform(df)\n",
        "\n",
        "# Creating a LinearRegression instance named 'linear_R'\n",
        "linear_R = LinearRegression(featuresCol=\"features\", labelCol=\"fare\")\n",
        "\n",
        "# Fitting the LinearRegression model to the data.\n",
        "M1 = linear_R.fit(data)"
      ],
      "metadata": {
        "id": "xh6pU1vRkaCJ"
      },
      "execution_count": 14,
      "outputs": []
    },
    {
      "cell_type": "markdown",
      "source": [
        "Using Spark MLlib build a model to predict taxi fare from trip distance and trip duration in minutes (Model: M2)"
      ],
      "metadata": {
        "id": "Ji18dBqS4odh"
      }
    },
    {
      "cell_type": "code",
      "source": [
        "# Creating a VectorAssembler instance which combines the specified input columns into a single feature column.\n",
        "assembler = VectorAssembler(inputCols= [\"distance\", \"duration\"], outputCol = \"features\")\n",
        "\n",
        "# Transforming the dataframe by applying the 'assembler' to create a new DataFrame 'data' with a 'features' column.\n",
        "data = assembler.transform(df)\n",
        "\n",
        "# Creating a LinearRegression instance named 'linear_R'\n",
        "linear_R = LinearRegression(featuresCol = \"features\", labelCol = \"fare\")\n",
        "\n",
        "# Fitting the LinearRegression model to the data.\n",
        "M2 = linear_R.fit(data)"
      ],
      "metadata": {
        "id": "HEI0L-l23jZl"
      },
      "execution_count": 15,
      "outputs": []
    },
    {
      "cell_type": "markdown",
      "source": [
        "What is the fare of a 20 mile long trip using M1"
      ],
      "metadata": {
        "id": "FSoXOGjZ-wXj"
      }
    },
    {
      "cell_type": "code",
      "source": [
        "# Creating a new dataframe with one column and one row value\n",
        "mile_df = spark.createDataFrame([(20,)],[\"distance_mile\"])\n",
        "\n",
        "# Creating a vector assember instance\n",
        "assembler = VectorAssembler(inputCols=[\"distance_mile\"], outputCol=\"features\")\n",
        "\n",
        "# Transforming the dataframe\n",
        "mile_df = assembler.transform(mile_df)\n",
        "\n",
        "# Using the model (M1) to predict the fare for the 20-mile distance\n",
        "predictions = M1.transform(mile_df)\n",
        "\n",
        "# showing the predicted fare\n",
        "predictions.select(\"distance_mile\", \"prediction\").show()\n",
        "\n",
        "# print\n",
        "print(\"The fare of a 20 mile long trip:\",predictions.filter((col(\"distance_mile\") == 20 )).first().prediction)"
      ],
      "metadata": {
        "colab": {
          "base_uri": "https://localhost:8080/"
        },
        "id": "TutlPr5a5RN8",
        "outputId": "b2bb6b31-4c99-43a6-e7e6-48559fde39de"
      },
      "execution_count": 16,
      "outputs": [
        {
          "output_type": "stream",
          "name": "stdout",
          "text": [
            "+-------------+-----------------+\n",
            "|distance_mile|       prediction|\n",
            "+-------------+-----------------+\n",
            "|           20|69.98009463870653|\n",
            "+-------------+-----------------+\n",
            "\n",
            "The fare of a 20 mile long trip: 69.98009463870653\n"
          ]
        }
      ]
    },
    {
      "cell_type": "markdown",
      "source": [
        "What is the fare of a 14 mile trip that took 75 minutes using M2"
      ],
      "metadata": {
        "id": "KqoTRgil_Bgq"
      }
    },
    {
      "cell_type": "code",
      "source": [
        "# Creating a new dataframe with given miles and minutes\n",
        "md_df = spark.createDataFrame([(14, 75)], [\"distance_mile\", \"duration\"])\n",
        "\n",
        "# Creating a vector assembler instance\n",
        "assembler = VectorAssembler(inputCols=[\"distance_mile\",\"duration\"], outputCol=\"features\")\n",
        "\n",
        "# Transforming the DataFrame\n",
        "md_df = assembler.transform(md_df)\n",
        "\n",
        "# Using the model (M2) to predict the fare for the 20-mile distance\n",
        "predictions = M2.transform(md_df)\n",
        "\n",
        "# Showing the predicted fare\n",
        "predictions.select(\"distance_mile\", \"duration\" , \"prediction\").show()\n",
        "\n",
        "# print\n",
        "print(\"The fare of a 20 mile long trip:\",predictions.filter((col(\"distance_mile\") == 14 )& (col(\"duration\") == 75)).first().prediction)"
      ],
      "metadata": {
        "colab": {
          "base_uri": "https://localhost:8080/"
        },
        "id": "iQPsTe9d-af-",
        "outputId": "c960763c-b02d-4d41-b803-054dc14dfd46"
      },
      "execution_count": 17,
      "outputs": [
        {
          "output_type": "stream",
          "name": "stdout",
          "text": [
            "+-------------+--------+------------------+\n",
            "|distance_mile|duration|        prediction|\n",
            "+-------------+--------+------------------+\n",
            "|           14|      75|51.269830640428225|\n",
            "+-------------+--------+------------------+\n",
            "\n",
            "The fare of a 20 mile long trip: 51.269830640428225\n"
          ]
        }
      ]
    },
    {
      "cell_type": "markdown",
      "source": [
        "Which fare is higher 10 mile trip taking 40 min or 13 mile trip taking 25 min?"
      ],
      "metadata": {
        "id": "x9uvoHJyABR2"
      }
    },
    {
      "cell_type": "code",
      "source": [
        "# creating a new dataframe\n",
        "md_df = spark.createDataFrame([(10, 40),(13,25)], [\"distance_mile\", \"duration\"])\n",
        "\n",
        "# Create a vector assembler instance\n",
        "assembler = VectorAssembler(inputCols=[\"distance_mile\",\"duration\"], outputCol=\"features\")\n",
        "\n",
        "# Transforming the dataframe\n",
        "md_df = assembler.transform(md_df)\n",
        "\n",
        "# Using the model to predict the fare for the given distances\n",
        "predictions = M2.transform(md_df)\n",
        "\n",
        "# Showing the predicted fare\n",
        "predictions.select(\"distance_mile\", \"duration\" , \"prediction\").show()\n",
        "\n",
        "# Comparing the predictions and determining the higher fare using if loop\n",
        "# the loop filters the values from the predictions dataframe based on the conditions and checks for value which is higher\n",
        "if predictions.filter((col(\"distance_mile\") == 10) & (col(\"duration\") == 40)).first().prediction > predictions.filter((col(\"distance_mile\") == 13) & (col(\"duration\") == 25)).first().prediction:\n",
        "\n",
        "    # print the statement based on the given condition\n",
        "    print(\"The fare is higher for 10-mile trip taking 40 minutes.\")\n",
        "else:\n",
        "    print(\"The fare is higher for 13-mile trip taking 25 minutes.\")"
      ],
      "metadata": {
        "colab": {
          "base_uri": "https://localhost:8080/"
        },
        "id": "rCJr4ZRd_7ko",
        "outputId": "4a7bc834-cb68-49d7-e125-0494f46e41db"
      },
      "execution_count": 18,
      "outputs": [
        {
          "output_type": "stream",
          "name": "stdout",
          "text": [
            "+-------------+--------+-----------------+\n",
            "|distance_mile|duration|       prediction|\n",
            "+-------------+--------+-----------------+\n",
            "|           10|      40|38.35805739374315|\n",
            "|           13|      25|47.68260615360383|\n",
            "+-------------+--------+-----------------+\n",
            "\n",
            "The fare is higher for 13-mile trip taking 25 minutes.\n"
          ]
        }
      ]
    },
    {
      "cell_type": "markdown",
      "source": [
        "Using Spark operations (transformation and actions) compute the average tip amount"
      ],
      "metadata": {
        "id": "9zcTWVf4UIDI"
      }
    },
    {
      "cell_type": "code",
      "source": [
        "# importing average from spark.sql\n",
        "from pyspark.sql.functions import avg\n",
        "\n",
        "# calculating the average of a tips\n",
        "average_value = df.select(avg(\"tip\")).collect()[0][0]\n",
        "\n",
        "# printing the average value\n",
        "print(\"The average tip amount:\", average_value)"
      ],
      "metadata": {
        "colab": {
          "base_uri": "https://localhost:8080/"
        },
        "id": "32k20OpeYF4p",
        "outputId": "496f26ee-a40b-4baa-adf9-0bbe0c2f1056"
      },
      "execution_count": 19,
      "outputs": [
        {
          "output_type": "stream",
          "name": "stdout",
          "text": [
            "The average tip amount: 1.6991557355960907\n"
          ]
        }
      ]
    },
    {
      "cell_type": "markdown",
      "source": [
        "During which hour the city experiences the most number of trips? E.g. 10am-11am or 4pm-5pm"
      ],
      "metadata": {
        "id": "l_-iHlZsPyR0"
      }
    },
    {
      "cell_type": "code",
      "source": [
        "# importing hour and when from spark sql\n",
        "from pyspark.sql.functions import hour, when\n",
        "\n",
        "# extracting the hour from pickup_datetime\n",
        "df_hour = df.withColumn(\"hour\", hour(df[\"pickup_datetime\"]))\n",
        "\n",
        "# grouping the DataFrame by the hour and counting the number of trips in each hour\n",
        "count_per_hour = df_hour.groupBy(\"hour\").count()\n",
        "\n",
        "# the hour with the maximum number of trips by ordering them in descending order and getting the first hour\n",
        "max_counts_hour = count_per_hour.orderBy(count_per_hour[\"count\"].desc()).first()[\"hour\"]\n",
        "\n",
        "# determining if the hour is in the AM or PM using if loop\n",
        "period = \"AM\" if max_counts_hour < 12 else \"PM\"\n",
        "\n",
        "# converting the hour to 12-hour format\n",
        "max_counts_hour = max_counts_hour if max_counts_hour <= 12 else max_counts_hour - 12\n",
        "\n",
        "# determining the hour range\n",
        "next_hour = max_counts_hour + 1 if max_counts_hour < 12 else 1\n",
        "\n",
        "# Printing the hour range with the most number of trips in 12-hour format\n",
        "print(f\"The most trips are between {max_counts_hour}{period} - {next_hour}{period}\")\n"
      ],
      "metadata": {
        "colab": {
          "base_uri": "https://localhost:8080/"
        },
        "id": "a_eEa9wANoHv",
        "outputId": "caffca05-3151-41b5-c364-68a9a8fdab1e"
      },
      "execution_count": 20,
      "outputs": [
        {
          "output_type": "stream",
          "name": "stdout",
          "text": [
            "The most trips are between 5PM - 6PM\n"
          ]
        }
      ]
    },
    {
      "cell_type": "markdown",
      "source": [
        "Compare Spark’s performance"
      ],
      "metadata": {
        "id": "ljQPgw8KmsJV"
      }
    },
    {
      "cell_type": "code",
      "source": [
        "# defining split percentages\n",
        "split_percentage = [0.1, 0.2, 0.3, 0.4, 0.5, 0.6, 0.7, 0.8, 0.9, 1.0]\n",
        "\n",
        "# splitting the dataframe\n",
        "split_dataframes = df.randomSplit(split_percentage, seed = 100)"
      ],
      "metadata": {
        "id": "pVJgV0wWPoZu"
      },
      "execution_count": 21,
      "outputs": []
    },
    {
      "cell_type": "code",
      "source": [
        "# importing time\n",
        "import time\n",
        "\n",
        "# Defining a function to perform the operations on each split and measure time\n",
        "def run_operations_and_measure_time_M1(df_split):\n",
        "\n",
        "    # storing the start time into a variable\n",
        "    start_time = time.time()\n",
        "\n",
        "    # Creating a VectorAssembler instance\n",
        "    assembler = VectorAssembler(inputCols=[\"distance\"], outputCol=\"features\")\n",
        "\n",
        "    # Transforming the split DataFrame with the 'assembler'\n",
        "    data = assembler.transform(split_df)\n",
        "\n",
        "    # Creating a LinearRegression instance\n",
        "    linear_R = LinearRegression(featuresCol=\"features\", labelCol=\"fare\")\n",
        "\n",
        "    # Fitting the LinearRegression model to the data\n",
        "    M1 = linear_R.fit(data)\n",
        "\n",
        "    # storing end time into a variable\n",
        "    end_time = time.time()\n",
        "\n",
        "    # calculaating the time taken\n",
        "    elapsed_time = end_time - start_time\n",
        "\n",
        "    # returns the time taken\n",
        "    return elapsed_time\n",
        "\n",
        "# Creating an empty list to store the execution times for each split\n",
        "M1_times = []\n",
        "\n",
        "# Iterating through the split DataFrames and measuring the time for each split\n",
        "for split_df in split_dataframes:\n",
        "    elapsed_time = run_operations_and_measure_time_M1(split_df)\n",
        "\n",
        "    # Adding the time from each split into one\n",
        "    M1_times.append(elapsed_time)\n",
        "\n",
        "# print\n",
        "print(\"The total time taken for Model 1 to fit for each split:\", M1_times)"
      ],
      "metadata": {
        "colab": {
          "base_uri": "https://localhost:8080/"
        },
        "id": "CDeesuODp-jV",
        "outputId": "254f6de3-ae61-45f5-a5fd-93150721ae69"
      },
      "execution_count": 22,
      "outputs": [
        {
          "output_type": "stream",
          "name": "stdout",
          "text": [
            "The total time taken for Model 1 to fit for each split: [15.842263221740723, 14.24157190322876, 13.49217939376831, 14.424434900283813, 14.457422971725464, 13.743670463562012, 13.50300407409668, 13.738418340682983, 13.628344297409058, 13.769121885299683]\n"
          ]
        }
      ]
    },
    {
      "cell_type": "code",
      "source": [
        "# Define a function to perform the operations on each split and measure time\n",
        "def run_operations_and_measure_time_M2(df_split):\n",
        "\n",
        "    # storing the start time into a variable\n",
        "    start_time = time.time()\n",
        "\n",
        "    # Creating a VectorAssembler instance with \"distance\" and \"duration\" columns\n",
        "    assembler = VectorAssembler(inputCols=[\"distance\", \"duration\"], outputCol=\"features\")\n",
        "\n",
        "    # Transforming the split DataFrame with the 'assembler'\n",
        "    data = assembler.transform(df_split)\n",
        "\n",
        "    # Creating a LinearRegression instance\n",
        "    linear_R = LinearRegression(featuresCol=\"features\", labelCol=\"fare\")\n",
        "\n",
        "    # Fitting the LinearRegression model to the data\n",
        "    M2 = linear_R.fit(data)\n",
        "\n",
        "    # storing end time into a variable\n",
        "    end_time = time.time()\n",
        "\n",
        "    # calculating the time taken\n",
        "    elapsed_time = end_time - start_time\n",
        "\n",
        "    # returns the time taken\n",
        "    return elapsed_time\n",
        "\n",
        "# Create a variable to store the total time\n",
        "M2_times = []\n",
        "\n",
        "# Iterate through the split DataFrames and measure the time for each split\n",
        "for split_df in split_dataframes:\n",
        "    elapsed_time = run_operations_and_measure_time_M2(split_df)\n",
        "\n",
        "    # Adding the time from each split into one\n",
        "    M2_times.append(elapsed_time)\n",
        "\n",
        "# print\n",
        "print(\"The total time taken for Model 1 to fit for each split:\", M2_times)"
      ],
      "metadata": {
        "colab": {
          "base_uri": "https://localhost:8080/"
        },
        "id": "QTXGAhB1uZfz",
        "outputId": "e99c9e25-87ea-4a90-9c94-2fb8b6aa77c2"
      },
      "execution_count": 23,
      "outputs": [
        {
          "output_type": "stream",
          "name": "stdout",
          "text": [
            "The total time taken for Model 1 to fit for each split: [14.398483991622925, 13.630832433700562, 12.812312602996826, 13.341878175735474, 13.43878173828125, 13.213176012039185, 13.666369438171387, 13.674135446548462, 13.244810581207275, 13.629822254180908]\n"
          ]
        }
      ]
    },
    {
      "cell_type": "code",
      "source": [
        "# Define the list of split percentages\n",
        "split_percentage = [0.1, 0.2, 0.3, 0.4, 0.5, 0.6, 0.7, 0.8, 0.9, 1.0]\n",
        "\n",
        "# Import the necessary plotting library\n",
        "import matplotlib.pyplot as plt\n",
        "\n",
        "# Create a line plot for M1 execution times\n",
        "plt.plot(split_percentage, M1_times, label=\"Model 1\", color=\"crimson\")\n",
        "\n",
        "# Create a line plot for M2 execution times\n",
        "plt.plot(split_percentage, M2_times, label=\"Model 2\", color=\"turquoise\")\n",
        "\n",
        "# Set the label for the x-axis\n",
        "plt.xlabel(\"Data Split Percentage\")\n",
        "\n",
        "# Set the label for the y-axis\n",
        "plt.ylabel(\"Time Taken (seconds)\")\n",
        "\n",
        "# Set the title of the plot\n",
        "plt.title(\"Execution Time Comparison for Different Methods with Data Split\")\n",
        "\n",
        "# Display a legend to distinguish between M1 and M2\n",
        "plt.legend()\n",
        "\n",
        "# Display the plot\n",
        "plt.show()"
      ],
      "metadata": {
        "colab": {
          "base_uri": "https://localhost:8080/",
          "height": 472
        },
        "id": "BIPj8_U_xP6T",
        "outputId": "2b18262e-16c0-4768-fefa-a0362f8c69a2"
      },
      "execution_count": 24,
      "outputs": [
        {
          "output_type": "display_data",
          "data": {
            "text/plain": [
              "<Figure size 640x480 with 1 Axes>"
            ],
            "image/png": "[encoded data removed]"
          },
          "metadata": {}
        }
      ]
    },
    {
      "cell_type": "code",
      "source": [],
      "metadata": {
        "id": "YDqo9ZzG4mGO"
      },
      "execution_count": 24,
      "outputs": []
    }
  ]
}