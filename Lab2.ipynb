{
  "nbformat": 4,
  "nbformat_minor": 0,
  "metadata": {
    "colab": {
      "provenance": []
    },
    "kernelspec": {
      "name": "python3",
      "display_name": "Python 3"
    },
    "language_info": {
      "name": "python"
    }
  },
  "cells": [
    {
      "cell_type": "code",
      "execution_count": null,
      "metadata": {
        "id": "Zqa94KZ7zsiv"
      },
      "outputs": [],
      "source": [
        "!apt-get install openjdk-8-jdk-headless -qq > /dev/null\n",
        "!wget -q https://archive.apache.org/dist/spark/spark-3.2.0/spark-3.2.0-bin-hadoop3.2.tgz\n",
        "!tar xf spark-3.2.0-bin-hadoop3.2.tgz\n",
        "!pip install -q findspark"
      ]
    },
    {
      "cell_type": "code",
      "source": [
        "import os\n",
        "os.environ[\"JAVA_HOME\"] = \"/usr/lib/jvm/java-8-openjdk-amd64\"\n",
        "os.environ[\"SPARK_HOME\"] = \"spark-3.2.0-bin-hadoop3.2\""
      ],
      "metadata": {
        "id": "FzbjIt8tz0pM"
      },
      "execution_count": null,
      "outputs": []
    },
    {
      "cell_type": "code",
      "source": [
        "import findspark\n",
        "findspark.init()"
      ],
      "metadata": {
        "id": "MXJ4UuuSz4QE"
      },
      "execution_count": null,
      "outputs": []
    },
    {
      "cell_type": "code",
      "source": [
        "from pyspark.sql import SparkSession\n",
        "spark = SparkSession.builder.master(\"local[*]\").getOrCreate()\n",
        "sc = spark.sparkContext\n",
        "sc"
      ],
      "metadata": {
        "colab": {
          "base_uri": "https://localhost:8080/",
          "height": 196
        },
        "id": "hSqUNb9O0DJw",
        "outputId": "180b8f74-fe99-4dbb-e0b3-6439b03f81f6"
      },
      "execution_count": null,
      "outputs": [
        {
          "output_type": "execute_result",
          "data": {
            "text/plain": [
              "<SparkContext master=local[*] appName=pyspark-shell>"
            ],
            "text/html": [
              "\n",
              "        <div>\n",
              "            <p><b>SparkContext</b></p>\n",
              "\n",
              "            <p><a href=\"http://06df1c21af92:4040\">Spark UI</a></p>\n",
              "\n",
              "            <dl>\n",
              "              <dt>Version</dt>\n",
              "                <dd><code>v3.2.0</code></dd>\n",
              "              <dt>Master</dt>\n",
              "                <dd><code>local[*]</code></dd>\n",
              "              <dt>AppName</dt>\n",
              "                <dd><code>pyspark-shell</code></dd>\n",
              "            </dl>\n",
              "        </div>\n",
              "        "
            ]
          },
          "metadata": {},
          "execution_count": 99
        }
      ]
    },
    {
      "cell_type": "code",
      "source": [
        "# reading the page rank text file\n",
        "df = sc.textFile(\"/content/pagerank.txt\")"
      ],
      "metadata": {
        "id": "K5ehpTw10I4G"
      },
      "execution_count": null,
      "outputs": []
    },
    {
      "cell_type": "code",
      "source": [
        "df.collect()"
      ],
      "metadata": {
        "colab": {
          "base_uri": "https://localhost:8080/"
        },
        "id": "9Bw5zc7I0pNr",
        "outputId": "de2eece0-be8e-4dfc-827c-9bf6f8483498"
      },
      "execution_count": null,
      "outputs": [
        {
          "output_type": "execute_result",
          "data": {
            "text/plain": [
              "['4 5',\n",
              " '5 8',\n",
              " '8 2',\n",
              " '8 8',\n",
              " '9 4',\n",
              " '9 1',\n",
              " '7 2',\n",
              " '5 9',\n",
              " '5 5',\n",
              " '7 7',\n",
              " '2 7',\n",
              " '4 1',\n",
              " '6 6',\n",
              " '3 8',\n",
              " '9 9',\n",
              " '4 8',\n",
              " '5 5',\n",
              " '2 4',\n",
              " '4 3',\n",
              " '1 8',\n",
              " '6 4',\n",
              " '8 4',\n",
              " '6 2',\n",
              " '3 8',\n",
              " '7 1',\n",
              " '9 6',\n",
              " '9 8',\n",
              " '2 7',\n",
              " '3 7',\n",
              " '4 9',\n",
              " '1 4',\n",
              " '3 4',\n",
              " '1 3',\n",
              " '3 6',\n",
              " '2 5',\n",
              " '1 2',\n",
              " '5 6',\n",
              " '4 6',\n",
              " '1 1',\n",
              " '6 4',\n",
              " '5 1',\n",
              " '8 6',\n",
              " '3 4',\n",
              " '9 9',\n",
              " '5 6',\n",
              " '4 5',\n",
              " '6 6',\n",
              " '6 7',\n",
              " '5 2',\n",
              " '6 8']"
            ]
          },
          "metadata": {},
          "execution_count": 101
        }
      ]
    },
    {
      "cell_type": "code",
      "source": [
        "edges = df.map(lambda line: tuple(map(int, line.strip().split())))"
      ],
      "metadata": {
        "id": "F6xZ6dIC0yrg"
      },
      "execution_count": null,
      "outputs": []
    },
    {
      "cell_type": "code",
      "source": [
        "edges.collect()"
      ],
      "metadata": {
        "colab": {
          "base_uri": "https://localhost:8080/"
        },
        "id": "CBmShOIK4gym",
        "outputId": "eb2b3e8c-1cb8-4891-a389-7f2f61a844af"
      },
      "execution_count": null,
      "outputs": [
        {
          "output_type": "execute_result",
          "data": {
            "text/plain": [
              "[(4, 5),\n",
              " (5, 8),\n",
              " (8, 2),\n",
              " (8, 8),\n",
              " (9, 4),\n",
              " (9, 1),\n",
              " (7, 2),\n",
              " (5, 9),\n",
              " (5, 5),\n",
              " (7, 7),\n",
              " (2, 7),\n",
              " (4, 1),\n",
              " (6, 6),\n",
              " (3, 8),\n",
              " (9, 9),\n",
              " (4, 8),\n",
              " (5, 5),\n",
              " (2, 4),\n",
              " (4, 3),\n",
              " (1, 8),\n",
              " (6, 4),\n",
              " (8, 4),\n",
              " (6, 2),\n",
              " (3, 8),\n",
              " (7, 1),\n",
              " (9, 6),\n",
              " (9, 8),\n",
              " (2, 7),\n",
              " (3, 7),\n",
              " (4, 9),\n",
              " (1, 4),\n",
              " (3, 4),\n",
              " (1, 3),\n",
              " (3, 6),\n",
              " (2, 5),\n",
              " (1, 2),\n",
              " (5, 6),\n",
              " (4, 6),\n",
              " (1, 1),\n",
              " (6, 4),\n",
              " (5, 1),\n",
              " (8, 6),\n",
              " (3, 4),\n",
              " (9, 9),\n",
              " (5, 6),\n",
              " (4, 5),\n",
              " (6, 6),\n",
              " (6, 7),\n",
              " (5, 2),\n",
              " (6, 8)]"
            ]
          },
          "metadata": {},
          "execution_count": 103
        }
      ]
    },
    {
      "cell_type": "markdown",
      "source": [
        "Question 1"
      ],
      "metadata": {
        "id": "9BKZRlODCvrf"
      }
    },
    {
      "cell_type": "code",
      "source": [
        "grouped_edges = edges.groupByKey()"
      ],
      "metadata": {
        "id": "O7uCTWCU7Re7"
      },
      "execution_count": null,
      "outputs": []
    },
    {
      "cell_type": "code",
      "source": [
        "grouped_incoming_edges = grouped_edges.map(lambda x:(x[0],sorted(list(x[1]))))"
      ],
      "metadata": {
        "id": "XHlYksc07ge0"
      },
      "execution_count": null,
      "outputs": []
    },
    {
      "cell_type": "code",
      "source": [
        "grouped_incoming_edges.collect()"
      ],
      "metadata": {
        "colab": {
          "base_uri": "https://localhost:8080/"
        },
        "id": "hynGo5-A7o82",
        "outputId": "c4fa62f5-b925-46cd-e826-2dad3155c8a7"
      },
      "execution_count": null,
      "outputs": [
        {
          "output_type": "execute_result",
          "data": {
            "text/plain": [
              "[(4, [1, 3, 5, 5, 6, 8, 9]),\n",
              " (8, [2, 4, 6, 8]),\n",
              " (2, [4, 5, 7, 7]),\n",
              " (6, [2, 4, 4, 6, 6, 7, 8]),\n",
              " (5, [1, 2, 5, 5, 6, 6, 8, 9]),\n",
              " (9, [1, 4, 6, 8, 9, 9]),\n",
              " (7, [1, 2, 7]),\n",
              " (3, [4, 4, 6, 7, 8, 8]),\n",
              " (1, [1, 2, 3, 4, 8])]"
            ]
          },
          "metadata": {},
          "execution_count": 106
        }
      ]
    },
    {
      "cell_type": "code",
      "source": [
        "Sorted_incoming_edges = grouped_incoming_edges.sortByKey()"
      ],
      "metadata": {
        "id": "JTkPjvHv8V2t"
      },
      "execution_count": null,
      "outputs": []
    },
    {
      "cell_type": "code",
      "source": [
        "# 1) Incoming edges sorted based on the node id\n",
        "Sorted_incoming_edges.collect()"
      ],
      "metadata": {
        "colab": {
          "base_uri": "https://localhost:8080/"
        },
        "id": "i5mL7lFd8a7H",
        "outputId": "4050b856-7d1e-44ae-c302-db2667a8da1f"
      },
      "execution_count": null,
      "outputs": [
        {
          "output_type": "execute_result",
          "data": {
            "text/plain": [
              "[(1, [1, 2, 3, 4, 8]),\n",
              " (2, [4, 5, 7, 7]),\n",
              " (3, [4, 4, 6, 7, 8, 8]),\n",
              " (4, [1, 3, 5, 5, 6, 8, 9]),\n",
              " (5, [1, 2, 5, 5, 6, 6, 8, 9]),\n",
              " (6, [2, 4, 4, 6, 6, 7, 8]),\n",
              " (7, [1, 2, 7]),\n",
              " (8, [2, 4, 6, 8]),\n",
              " (9, [1, 4, 6, 8, 9, 9])]"
            ]
          },
          "metadata": {},
          "execution_count": 108
        }
      ]
    },
    {
      "cell_type": "markdown",
      "source": [
        "Question 2"
      ],
      "metadata": {
        "id": "wwMBSy95C0lO"
      }
    },
    {
      "cell_type": "code",
      "source": [
        "incoming_5_edges = Sorted_incoming_edges.filter(lambda x: len(x[1]) == 5)"
      ],
      "metadata": {
        "id": "aFJR-sql-RMF"
      },
      "execution_count": null,
      "outputs": []
    },
    {
      "cell_type": "code",
      "source": [
        "incoming_5_edges.collect()"
      ],
      "metadata": {
        "colab": {
          "base_uri": "https://localhost:8080/"
        },
        "id": "GMwiN3WOCZNa",
        "outputId": "36fae7ed-0438-4285-9e13-d171d78ffac2"
      },
      "execution_count": null,
      "outputs": [
        {
          "output_type": "execute_result",
          "data": {
            "text/plain": [
              "[(1, [1, 2, 3, 4, 8])]"
            ]
          },
          "metadata": {},
          "execution_count": 110
        }
      ]
    },
    {
      "cell_type": "code",
      "source": [
        "# 2) Node that has 5 incoming edges\n",
        "incoming_5_edges.map(lambda x: x[0]).collect()"
      ],
      "metadata": {
        "colab": {
          "base_uri": "https://localhost:8080/"
        },
        "id": "xOwYRwG7BdQz",
        "outputId": "c278bb9f-1362-44a7-c951-c3b1cfe52abe"
      },
      "execution_count": null,
      "outputs": [
        {
          "output_type": "execute_result",
          "data": {
            "text/plain": [
              "[1]"
            ]
          },
          "metadata": {},
          "execution_count": 111
        }
      ]
    },
    {
      "cell_type": "markdown",
      "source": [
        "Question 3"
      ],
      "metadata": {
        "id": "p-nxvRhPC2or"
      }
    },
    {
      "cell_type": "code",
      "source": [
        "node_1 = Sorted_incoming_edges.filter(lambda x: x[0] == 1)"
      ],
      "metadata": {
        "id": "gS8QdFan_TJK"
      },
      "execution_count": null,
      "outputs": []
    },
    {
      "cell_type": "code",
      "source": [
        "node_1_edges = node_1.map(lambda x: x[1])"
      ],
      "metadata": {
        "id": "aMZcF8TB_v7z"
      },
      "execution_count": null,
      "outputs": []
    },
    {
      "cell_type": "code",
      "source": [
        "# 3) Incoming edges of Node 1\n",
        "node_1_edges.collect()"
      ],
      "metadata": {
        "colab": {
          "base_uri": "https://localhost:8080/"
        },
        "id": "S6iIKNJIAmCt",
        "outputId": "0c4e11f8-d601-474e-a054-6cf3e2d979b3"
      },
      "execution_count": null,
      "outputs": [
        {
          "output_type": "execute_result",
          "data": {
            "text/plain": [
              "[[1, 2, 3, 4, 8]]"
            ]
          },
          "metadata": {},
          "execution_count": 114
        }
      ]
    }
  ]
}