{
  "nbformat": 4,
  "nbformat_minor": 0,
  "metadata": {
    "colab": {
      "provenance": []
    },
    "kernelspec": {
      "name": "python3",
      "display_name": "Python 3"
    },
    "language_info": {
      "name": "python"
    }
  },
  "cells": [
    {
      "cell_type": "code",
      "execution_count": 1,
      "metadata": {
        "id": "xxqbumk0IWlR"
      },
      "outputs": [],
      "source": [
        "# installing open java development kit\n",
        "!apt-get install openjdk-8-jdk-headless -qq > /dev/null\n",
        "\n",
        "# getting spark package\n",
        "!wget -q https://archive.apache.org/dist/spark/spark-3.2.0/spark-3.2.0-bin-hadoop3.2.tgz\n",
        "\n",
        "# unzipping\n",
        "!tar xf spark-3.2.0-bin-hadoop3.2.tgz\n",
        "\n",
        "# Installing findspark\n",
        "!pip install -q findspark"
      ]
    },
    {
      "cell_type": "code",
      "source": [
        "# importing OS\n",
        "import os\n",
        "\n",
        "# setting java environment\n",
        "os.environ[\"JAVA_HOME\"] = \"/usr/lib/jvm/java-8-openjdk-amd64\"\n",
        "\n",
        "# setting spark environment\n",
        "os.environ[\"SPARK_HOME\"] = \"spark-3.2.0-bin-hadoop3.2\""
      ],
      "metadata": {
        "id": "1jvm5vEEIg57"
      },
      "execution_count": 2,
      "outputs": []
    },
    {
      "cell_type": "code",
      "source": [
        "# importing spark\n",
        "import findspark\n",
        "\n",
        "# initializing spark\n",
        "findspark.init()"
      ],
      "metadata": {
        "id": "6cjgsjuLIiwA"
      },
      "execution_count": 3,
      "outputs": []
    },
    {
      "cell_type": "code",
      "source": [
        "# importing spark session\n",
        "from pyspark.sql import SparkSession\n",
        "\n",
        "# creating spark session\n",
        "spark = SparkSession.builder.master(\"local[*]\").getOrCreate()\n",
        "\n",
        "# getting sparkcontext from spark\n",
        "sc = spark.sparkContext\n",
        "\n",
        "# print\n",
        "sc"
      ],
      "metadata": {
        "colab": {
          "base_uri": "https://localhost:8080/",
          "height": 196
        },
        "id": "mUFvwRvyIp4I",
        "outputId": "a73ba1c1-f03c-40b4-b002-86a44865e0dc"
      },
      "execution_count": 4,
      "outputs": [
        {
          "output_type": "execute_result",
          "data": {
            "text/plain": [
              "<SparkContext master=local[*] appName=pyspark-shell>"
            ],
            "text/html": [
              "\n",
              "        <div>\n",
              "            <p><b>SparkContext</b></p>\n",
              "\n",
              "            <p><a href=\"http://aee5ee8a271c:4040\">Spark UI</a></p>\n",
              "\n",
              "            <dl>\n",
              "              <dt>Version</dt>\n",
              "                <dd><code>v3.2.0</code></dd>\n",
              "              <dt>Master</dt>\n",
              "                <dd><code>local[*]</code></dd>\n",
              "              <dt>AppName</dt>\n",
              "                <dd><code>pyspark-shell</code></dd>\n",
              "            </dl>\n",
              "        </div>\n",
              "        "
            ]
          },
          "metadata": {},
          "execution_count": 4
        }
      ]
    },
    {
      "cell_type": "code",
      "source": [
        "# defining the file path\n",
        "path = \"/content/wildlife_trade.csv\""
      ],
      "metadata": {
        "id": "hCvP_SGZIyM4"
      },
      "execution_count": 5,
      "outputs": []
    },
    {
      "cell_type": "code",
      "source": [
        "# reading the csv file as spark dataframe\n",
        "df = spark.read.option(\"header\",True).csv(path)\n"
      ],
      "metadata": {
        "id": "ELAkqmEwI_O2"
      },
      "execution_count": 6,
      "outputs": []
    },
    {
      "cell_type": "code",
      "source": [
        "#creating a temporary sql table\n",
        "df.createOrReplaceTempView(\"wildlife_trade\")"
      ],
      "metadata": {
        "id": "ciIw6t7-JZJv"
      },
      "execution_count": 7,
      "outputs": []
    },
    {
      "cell_type": "markdown",
      "source": [
        "1. what is the most frequent Class of animal traded"
      ],
      "metadata": {
        "id": "jU4A0-81Ncsn"
      }
    },
    {
      "cell_type": "code",
      "source": [
        "# the query is selecting class and count the frequency of each class excluding the null values from the sql table, grouping by class\n",
        "# it is then ordering them based on frequencies in decending order and storing the first class in the variable\n",
        "frequent_class = spark.sql(\"SELECT Class, COUNT(*) as Frequency \" +\n",
        "                           \"FROM wildlife_trade \" +\n",
        "                           \"WHERE Class IS NOT NULL \" +\n",
        "                           \"GROUP BY Class \" +\n",
        "                           \"ORDER BY Frequency DESC \" +\n",
        "                           \"LIMIT 1\")"
      ],
      "metadata": {
        "id": "JO1AAL0uNUNk"
      },
      "execution_count": 9,
      "outputs": []
    },
    {
      "cell_type": "code",
      "source": [
        "# print the answer\n",
        "frequent_class.show()"
      ],
      "metadata": {
        "colab": {
          "base_uri": "https://localhost:8080/"
        },
        "id": "1vARqSucOp2A",
        "outputId": "07a3efb5-bfa4-4bd2-bc22-73880d59461d"
      },
      "execution_count": 10,
      "outputs": [
        {
          "output_type": "stream",
          "name": "stdout",
          "text": [
            "+--------+---------+\n",
            "|   Class|Frequency|\n",
            "+--------+---------+\n",
            "|Reptilia|    18430|\n",
            "+--------+---------+\n",
            "\n"
          ]
        }
      ]
    },
    {
      "cell_type": "markdown",
      "source": [
        "2. List all the items (Term) traded that are associated with Mammals"
      ],
      "metadata": {
        "id": "mHJVCFV5PHEh"
      }
    },
    {
      "cell_type": "code",
      "source": [
        "# this query selects all distinct terms where the class is mammalia from the table\n",
        "traded_items = spark.sql(\"SELECT DISTINCT Term \" +\n",
        "                         \"FROM wildlife_trade \" +\n",
        "                         \"WHERE class LIKE '%Mammalia%' \")"
      ],
      "metadata": {
        "id": "eZjsBD37OtOF"
      },
      "execution_count": 11,
      "outputs": []
    },
    {
      "cell_type": "code",
      "source": [
        "# print\n",
        "traded_items.show()"
      ],
      "metadata": {
        "colab": {
          "base_uri": "https://localhost:8080/"
        },
        "id": "qKLspexnPpKV",
        "outputId": "d9f74dd7-9e13-454c-e03a-07e081aeb8b3"
      },
      "execution_count": 12,
      "outputs": [
        {
          "output_type": "stream",
          "name": "stdout",
          "text": [
            "+--------------------+\n",
            "|                Term|\n",
            "+--------------------+\n",
            "|                gall|\n",
            "|                meat|\n",
            "| fur product (small)|\n",
            "|              fibres|\n",
            "|              scales|\n",
            "|         bone pieces|\n",
            "|            garments|\n",
            "|            medicine|\n",
            "|              bodies|\n",
            "|            carvings|\n",
            "|               horns|\n",
            "|leather products ...|\n",
            "|               claws|\n",
            "|              skulls|\n",
            "|             extract|\n",
            "|               tails|\n",
            "|                hair|\n",
            "|           specimens|\n",
            "|         skin pieces|\n",
            "|         horn pieces|\n",
            "+--------------------+\n",
            "only showing top 20 rows\n",
            "\n"
          ]
        }
      ]
    },
    {
      "cell_type": "markdown",
      "source": [
        "3. List all CITES Appendix II species"
      ],
      "metadata": {
        "id": "r_GZalcgQiQt"
      }
    },
    {
      "cell_type": "code",
      "source": [
        "# selecting the distinct tarox where the appendix is 2\n",
        "app_II_species = spark.sql(\"SELECT DISTINCT Taxon \"+\n",
        "                                   \"FROM wildlife_trade \"+\n",
        "                                   \"WHERE `App.` = 'II'\")"
      ],
      "metadata": {
        "id": "COekuQwFP8sG"
      },
      "execution_count": 13,
      "outputs": []
    },
    {
      "cell_type": "code",
      "source": [
        "# print\n",
        "app_II_species.show()"
      ],
      "metadata": {
        "colab": {
          "base_uri": "https://localhost:8080/"
        },
        "id": "enX10SyiRF7w",
        "outputId": "80ab2d0d-585a-4e34-cad2-294dd1400f7b"
      },
      "execution_count": 14,
      "outputs": [
        {
          "output_type": "stream",
          "name": "stdout",
          "text": [
            "+--------------------+\n",
            "|               Taxon|\n",
            "+--------------------+\n",
            "|   Aquila chrysaetos|\n",
            "|     Buteo polyosoma|\n",
            "|Ferocactus chrysa...|\n",
            "|Geohintonia mexicana|\n",
            "|Melocactus broadwayi|\n",
            "|        Parodia spp.|\n",
            "|     Cebus albifrons|\n",
            "|Zygosicyos tripar...|\n",
            "|Euphorbia longifolia|\n",
            "|Cyphastrea microp...|\n",
            "|   Chalcopsitta atra|\n",
            "|Myrmecophaga trid...|\n",
            "|    Nepenthes hamata|\n",
            "|  Acianthera calypso|\n",
            "|  Aerides flabellata|\n",
            "|Bulbophyllum elon...|\n",
            "|Bulbophyllum odor...|\n",
            "|Cephalantheropsis...|\n",
            "|Dendrobium nathan...|\n",
            "|Dendrobium tanger...|\n",
            "+--------------------+\n",
            "only showing top 20 rows\n",
            "\n"
          ]
        }
      ]
    },
    {
      "cell_type": "markdown",
      "source": [
        "4. What is the most common animal (Taxon) traded in 2017?"
      ],
      "metadata": {
        "id": "D3XGIjVRR8mO"
      }
    },
    {
      "cell_type": "code",
      "source": [
        "# the query is selecting taxon and count the frequency of each taxon where year is 2017, grouping them by taxon\n",
        "# it is then ordering them based on frequencies in decending order and storing the first class in the variable\n",
        "m_animal_traded = spark.sql(\"SELECT Taxon, COUNT(*) as Frequency \"+\n",
        "                            \"FROM wildlife_trade \"+\n",
        "                            \"WHERE Year = 2017 \"+\n",
        "                            \"GROUP BY Taxon \"\n",
        "                            \"ORDER BY Frequency DESC \"+\n",
        "                            \"LIMIT 1 \")"
      ],
      "metadata": {
        "id": "0iAfVHHDRbmm"
      },
      "execution_count": 15,
      "outputs": []
    },
    {
      "cell_type": "code",
      "source": [
        "# print\n",
        "m_animal_traded.show()"
      ],
      "metadata": {
        "colab": {
          "base_uri": "https://localhost:8080/"
        },
        "id": "nQW1tFWKR_f9",
        "outputId": "b811864f-34b0-420f-9aad-d77836a22724"
      },
      "execution_count": 16,
      "outputs": [
        {
          "output_type": "stream",
          "name": "stdout",
          "text": [
            "+--------------------+---------+\n",
            "|               Taxon|Frequency|\n",
            "+--------------------+---------+\n",
            "|Alligator mississ...|       18|\n",
            "+--------------------+---------+\n",
            "\n"
          ]
        }
      ]
    },
    {
      "cell_type": "markdown",
      "source": [
        "5. List all the Classes of animals where the following items are traded\n",
        "\n",
        "   a) teeth\n",
        "\n",
        "   b) live\n",
        "\n",
        "   c) carvings"
      ],
      "metadata": {
        "id": "C6P1d2EtS9fe"
      }
    },
    {
      "cell_type": "code",
      "source": [
        "# listing distinct class where the term is \"teeth\"\n",
        "teeth = spark.sql(\"SELECT DISTINCT Class \"+\n",
        "                  \"FROM wildlife_trade \"+\n",
        "                  \"WHERE Term = 'teeth'\")\n",
        "\n",
        "# listing distinct class where the term is \"live\"\n",
        "live = spark.sql(\"SELECT DISTINCT Class \"+\n",
        "                 \"FROM wildlife_trade \"+\n",
        "                 \"WHERE Term = 'live'\")\n",
        "\n",
        "# listing distinct class where the term is \"carvings\"\n",
        "carvings = spark.sql(\"SELECT DISTINCT Class \"+\n",
        "                     \"FROM wildlife_trade \"+\n",
        "                     \"WHERE Term = 'carvings'\")"
      ],
      "metadata": {
        "id": "rR2B4w9ySYEE"
      },
      "execution_count": 17,
      "outputs": []
    },
    {
      "cell_type": "code",
      "source": [
        "# print\n",
        "\n",
        "print(\"A, The Animal classes where teeth is traded:\")\n",
        "teeth.show()\n",
        "\n",
        "print(\"B, The Animal classes where live is traded:\")\n",
        "live.show()\n",
        "\n",
        "print(\"C, The Animal classes where carvings is traded:\")\n",
        "carvings.show()"
      ],
      "metadata": {
        "colab": {
          "base_uri": "https://localhost:8080/"
        },
        "id": "rmDztOOWTjlT",
        "outputId": "5ffcfbce-b2b3-4859-d69c-cb326c21f3cc"
      },
      "execution_count": 18,
      "outputs": [
        {
          "output_type": "stream",
          "name": "stdout",
          "text": [
            "A, The Animal classes where teeth is traded:\n",
            "+--------+\n",
            "|   Class|\n",
            "+--------+\n",
            "|Mammalia|\n",
            "|Reptilia|\n",
            "+--------+\n",
            "\n",
            "B, The Animal classes where live is traded:\n",
            "+--------------+\n",
            "|         Class|\n",
            "+--------------+\n",
            "|          Aves|\n",
            "|      Amphibia|\n",
            "|       Insecta|\n",
            "|      Mammalia|\n",
            "|Elasmobranchii|\n",
            "|     Arachnida|\n",
            "|          null|\n",
            "|    Gastropoda|\n",
            "|      Reptilia|\n",
            "|   Actinopteri|\n",
            "|      Anthozoa|\n",
            "|     Dipneusti|\n",
            "|  Hirudinoidea|\n",
            "|      Hydrozoa|\n",
            "|      Bivalvia|\n",
            "+--------------+\n",
            "\n",
            "C, The Animal classes where carvings is traded:\n",
            "+----------+\n",
            "|     Class|\n",
            "+----------+\n",
            "|      Aves|\n",
            "|  Bivalvia|\n",
            "|  Mammalia|\n",
            "|      null|\n",
            "|Gastropoda|\n",
            "|  Reptilia|\n",
            "|  Anthozoa|\n",
            "|  Hydrozoa|\n",
            "+----------+\n",
            "\n"
          ]
        }
      ]
    },
    {
      "cell_type": "code",
      "source": [],
      "metadata": {
        "id": "CbZEWB0lUX8j"
      },
      "execution_count": 18,
      "outputs": []
    }
  ]
}