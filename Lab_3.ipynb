{
  "nbformat": 4,
  "nbformat_minor": 0,
  "metadata": {
    "colab": {
      "provenance": []
    },
    "kernelspec": {
      "name": "python3",
      "display_name": "Python 3"
    },
    "language_info": {
      "name": "python"
    }
  },
  "cells": [
    {
      "cell_type": "code",
      "execution_count": null,
      "metadata": {
        "id": "GW7qwErkJacR"
      },
      "outputs": [],
      "source": [
        "!apt-get install openjdk-8-jdk-headless -qq > /dev/null\n",
        "!wget -q https://archive.apache.org/dist/spark/spark-3.2.0/spark-3.2.0-bin-hadoop3.2.tgz\n",
        "!tar xf spark-3.2.0-bin-hadoop3.2.tgz\n",
        "!pip install -q findspark"
      ]
    },
    {
      "cell_type": "code",
      "source": [
        "import os\n",
        "os.environ[\"JAVA_HOME\"] = \"/usr/lib/jvm/java-8-openjdk-amd64\"\n",
        "os.environ[\"SPARK_HOME\"] = \"spark-3.2.0-bin-hadoop3.2\""
      ],
      "metadata": {
        "id": "LaazfuQqJdLQ"
      },
      "execution_count": null,
      "outputs": []
    },
    {
      "cell_type": "code",
      "source": [
        "import findspark\n",
        "findspark.init()"
      ],
      "metadata": {
        "id": "L8RpAywWJfhE"
      },
      "execution_count": null,
      "outputs": []
    },
    {
      "cell_type": "code",
      "source": [
        "from pyspark.sql import SparkSession\n",
        "spark = SparkSession.builder.master(\"local[*]\").getOrCreate()\n",
        "sc = spark.sparkContext\n",
        "sc"
      ],
      "metadata": {
        "colab": {
          "base_uri": "https://localhost:8080/",
          "height": 196
        },
        "id": "iprl1XQGJgsE",
        "outputId": "d2388bdd-8886-4b16-bdc7-5f66931ca3b5"
      },
      "execution_count": null,
      "outputs": [
        {
          "output_type": "execute_result",
          "data": {
            "text/plain": [
              "<SparkContext master=local[*] appName=pyspark-shell>"
            ],
            "text/html": [
              "\n",
              "        <div>\n",
              "            <p><b>SparkContext</b></p>\n",
              "\n",
              "            <p><a href=\"http://63762877d6fc:4040\">Spark UI</a></p>\n",
              "\n",
              "            <dl>\n",
              "              <dt>Version</dt>\n",
              "                <dd><code>v3.2.0</code></dd>\n",
              "              <dt>Master</dt>\n",
              "                <dd><code>local[*]</code></dd>\n",
              "              <dt>AppName</dt>\n",
              "                <dd><code>pyspark-shell</code></dd>\n",
              "            </dl>\n",
              "        </div>\n",
              "        "
            ]
          },
          "metadata": {},
          "execution_count": 4
        }
      ]
    },
    {
      "cell_type": "code",
      "source": [
        "from google.colab import drive\n",
        "drive.mount('/content/drive')"
      ],
      "metadata": {
        "colab": {
          "base_uri": "https://localhost:8080/"
        },
        "id": "qQ1EztCtJhzm",
        "outputId": "4c572750-4db2-4a89-d3da-1a49649f1676"
      },
      "execution_count": null,
      "outputs": [
        {
          "output_type": "stream",
          "name": "stdout",
          "text": [
            "Mounted at /content/drive\n"
          ]
        }
      ]
    },
    {
      "cell_type": "code",
      "source": [
        "from pyspark.sql import SparkSession\n",
        "from pyspark.mllib.stat import Statistics\n",
        "from pyspark.ml.linalg import Vectors\n",
        "from pyspark.ml.stat import Correlation\n",
        "from pyspark.ml.clustering import LDA\n",
        "import numpy as np"
      ],
      "metadata": {
        "id": "v4TrtOvYJs5x"
      },
      "execution_count": null,
      "outputs": []
    },
    {
      "cell_type": "code",
      "source": [
        "from pyspark.mllib.classification import LogisticRegressionModel,LogisticRegressionWithLBFGS, SVMWithSGD, SVMModel\n",
        "from pyspark.mllib.regression import LabeledPoint, LinearRegressionWithSGD, LinearRegressionModel\n",
        "from pyspark.mllib.clustering import *"
      ],
      "metadata": {
        "id": "5tX8V1lvT0Vl"
      },
      "execution_count": null,
      "outputs": []
    },
    {
      "cell_type": "code",
      "source": [
        "path = \"/content/drive/MyDrive/data/lab3_datafile/lab3_data.txt\""
      ],
      "metadata": {
        "id": "XgBVd4NsK7Ku"
      },
      "execution_count": null,
      "outputs": []
    },
    {
      "cell_type": "code",
      "source": [
        "df = spark.read.format(\"libsvm\").load(path)"
      ],
      "metadata": {
        "id": "AccMSHX8Lac9"
      },
      "execution_count": null,
      "outputs": []
    },
    {
      "cell_type": "code",
      "source": [
        "type(df)"
      ],
      "metadata": {
        "colab": {
          "base_uri": "https://localhost:8080/"
        },
        "id": "tRxjgz67NrTu",
        "outputId": "096d897c-dcc1-46d7-da25-66a60a414957"
      },
      "execution_count": null,
      "outputs": [
        {
          "output_type": "execute_result",
          "data": {
            "text/plain": [
              "pyspark.sql.dataframe.DataFrame"
            ]
          },
          "metadata": {},
          "execution_count": 10
        }
      ]
    },
    {
      "cell_type": "code",
      "source": [
        "df.show()"
      ],
      "metadata": {
        "colab": {
          "base_uri": "https://localhost:8080/"
        },
        "id": "SNq7FYlsRnlL",
        "outputId": "7df44c2b-bed0-4555-b77c-9a62f6c27d12"
      },
      "execution_count": null,
      "outputs": [
        {
          "output_type": "stream",
          "name": "stdout",
          "text": [
            "+-----+--------------------+\n",
            "|label|            features|\n",
            "+-----+--------------------+\n",
            "|  0.0|(4,[0,1,2,3],[5.1...|\n",
            "|  0.0|(4,[0,1,2,3],[4.9...|\n",
            "|  0.0|(4,[0,1,2,3],[4.7...|\n",
            "|  0.0|(4,[0,1,2,3],[4.6...|\n",
            "|  0.0|(4,[0,1,2,3],[5.0...|\n",
            "|  0.0|(4,[0,1,2,3],[5.4...|\n",
            "|  0.0|(4,[0,1,2,3],[4.6...|\n",
            "|  0.0|(4,[0,1,2,3],[5.0...|\n",
            "|  0.0|(4,[0,1,2,3],[4.4...|\n",
            "|  0.0|(4,[0,1,2,3],[4.9...|\n",
            "|  0.0|(4,[0,1,2,3],[5.4...|\n",
            "|  0.0|(4,[0,1,2,3],[4.8...|\n",
            "|  0.0|(4,[0,1,2,3],[4.8...|\n",
            "|  0.0|(4,[0,1,2,3],[4.3...|\n",
            "|  0.0|(4,[0,1,2,3],[5.8...|\n",
            "|  0.0|(4,[0,1,2,3],[5.7...|\n",
            "|  0.0|(4,[0,1,2,3],[5.4...|\n",
            "|  0.0|(4,[0,1,2,3],[5.1...|\n",
            "|  0.0|(4,[0,1,2,3],[5.7...|\n",
            "|  0.0|(4,[0,1,2,3],[5.1...|\n",
            "+-----+--------------------+\n",
            "only showing top 20 rows\n",
            "\n"
          ]
        }
      ]
    },
    {
      "cell_type": "code",
      "source": [
        "df.printSchema()"
      ],
      "metadata": {
        "colab": {
          "base_uri": "https://localhost:8080/"
        },
        "id": "-tnHONTTMEXZ",
        "outputId": "b1ef3d54-0018-44c6-eb05-e608bc1f587d"
      },
      "execution_count": null,
      "outputs": [
        {
          "output_type": "stream",
          "name": "stdout",
          "text": [
            "root\n",
            " |-- label: double (nullable = true)\n",
            " |-- features: vector (nullable = true)\n",
            "\n"
          ]
        }
      ]
    },
    {
      "cell_type": "code",
      "source": [
        "df.describe(\"label\").show()"
      ],
      "metadata": {
        "colab": {
          "base_uri": "https://localhost:8080/"
        },
        "id": "z42IW_ODMHXV",
        "outputId": "757f718a-7613-4912-be78-402e34e4441c"
      },
      "execution_count": null,
      "outputs": [
        {
          "output_type": "stream",
          "name": "stdout",
          "text": [
            "+-------+------------------+\n",
            "|summary|             label|\n",
            "+-------+------------------+\n",
            "|  count|               150|\n",
            "|   mean|               1.0|\n",
            "| stddev|0.8192319205190406|\n",
            "|    min|               0.0|\n",
            "|    max|               2.0|\n",
            "+-------+------------------+\n",
            "\n"
          ]
        }
      ]
    },
    {
      "cell_type": "code",
      "source": [
        "from pyspark.ml.classification import LogisticRegression\n",
        "logr = LogisticRegression(featuresCol='features', labelCol='label')"
      ],
      "metadata": {
        "id": "URplASJVNpk_"
      },
      "execution_count": null,
      "outputs": []
    },
    {
      "cell_type": "code",
      "source": [
        "model=logr.fit(df)"
      ],
      "metadata": {
        "id": "C3-gf0VqOMsn"
      },
      "execution_count": null,
      "outputs": []
    },
    {
      "cell_type": "code",
      "source": [
        "model_prediction = model.transform(df)"
      ],
      "metadata": {
        "id": "Rl434kE3OYLd"
      },
      "execution_count": null,
      "outputs": []
    },
    {
      "cell_type": "code",
      "source": [
        "evaluatorMulti = MulticlassClassificationEvaluator(labelCol=\"label\", predictionCol=\"prediction\")"
      ],
      "metadata": {
        "id": "nQCJ-4ATOdA9"
      },
      "execution_count": null,
      "outputs": []
    },
    {
      "cell_type": "code",
      "source": [
        "from pyspark.ml.evaluation import MulticlassClassificationEvaluator"
      ],
      "metadata": {
        "id": "NRYySAa9OkBd"
      },
      "execution_count": null,
      "outputs": []
    },
    {
      "cell_type": "code",
      "source": [
        "weightedPrecision = evaluatorMulti.evaluate(model_prediction, {evaluatorMulti.metricName: \"weightedPrecision\"})\n",
        "weightedRecall = evaluatorMulti.evaluate(model_prediction, {evaluatorMulti.metricName: \"weightedRecall\"})\n",
        "Accuracy = evaluatorMulti.evaluate(model_prediction, {evaluatorMulti.metricName: \"accuracy\"})\n",
        "f1 = evaluatorMulti.evaluate(model_prediction, {evaluatorMulti.metricName: \"f1\"})"
      ],
      "metadata": {
        "id": "trst3n__OrUz"
      },
      "execution_count": null,
      "outputs": []
    },
    {
      "cell_type": "code",
      "source": [
        "weightedPrecision"
      ],
      "metadata": {
        "colab": {
          "base_uri": "https://localhost:8080/"
        },
        "id": "cXE-TBGNPtz9",
        "outputId": "f8263f68-0e40-4065-f21e-4b0812b896ae"
      },
      "execution_count": null,
      "outputs": [
        {
          "output_type": "execute_result",
          "data": {
            "text/plain": [
              "0.9866666666666666"
            ]
          },
          "metadata": {},
          "execution_count": 22
        }
      ]
    },
    {
      "cell_type": "code",
      "source": [
        "weightedRecall"
      ],
      "metadata": {
        "colab": {
          "base_uri": "https://localhost:8080/"
        },
        "id": "obxOvgVRTNVf",
        "outputId": "76affaeb-582e-4c8d-8d7f-018caa2f91d9"
      },
      "execution_count": null,
      "outputs": [
        {
          "output_type": "execute_result",
          "data": {
            "text/plain": [
              "0.9866666666666666"
            ]
          },
          "metadata": {},
          "execution_count": 23
        }
      ]
    },
    {
      "cell_type": "code",
      "source": [
        "Accuracy"
      ],
      "metadata": {
        "colab": {
          "base_uri": "https://localhost:8080/"
        },
        "id": "3OeJjAwYTO0t",
        "outputId": "1c802c70-d3a8-438d-ac17-e7194aa619bd"
      },
      "execution_count": null,
      "outputs": [
        {
          "output_type": "execute_result",
          "data": {
            "text/plain": [
              "0.9866666666666667"
            ]
          },
          "metadata": {},
          "execution_count": 24
        }
      ]
    },
    {
      "cell_type": "code",
      "source": [
        "f1"
      ],
      "metadata": {
        "colab": {
          "base_uri": "https://localhost:8080/"
        },
        "id": "ECOkEGJ-TeSp",
        "outputId": "d41d2ad8-16c2-4c23-cec3-35376cce91aa"
      },
      "execution_count": null,
      "outputs": [
        {
          "output_type": "execute_result",
          "data": {
            "text/plain": [
              "0.9866666666666666"
            ]
          },
          "metadata": {},
          "execution_count": 25
        }
      ]
    },
    {
      "cell_type": "code",
      "source": [],
      "metadata": {
        "id": "WNSLT85dVa1_"
      },
      "execution_count": null,
      "outputs": []
    }
  ]
}