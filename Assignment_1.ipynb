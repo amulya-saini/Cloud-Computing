{
  "nbformat": 4,
  "nbformat_minor": 0,
  "metadata": {
    "colab": {
      "provenance": []
    },
    "kernelspec": {
      "name": "python3",
      "display_name": "Python 3"
    },
    "language_info": {
      "name": "python"
    }
  },
  "cells": [
    {
      "cell_type": "code",
      "execution_count": null,
      "metadata": {
        "id": "1qRL_0X3O-s1"
      },
      "outputs": [],
      "source": [
        "# installing open java development kit\n",
        "!apt-get install openjdk-8-jdk-headless -qq > /dev/null\n",
        "\n",
        "# getting spark package\n",
        "!wget -q https://archive.apache.org/dist/spark/spark-3.2.0/spark-3.2.0-bin-hadoop3.2.tgz\n",
        "\n",
        "# unzipping\n",
        "!tar xf spark-3.2.0-bin-hadoop3.2.tgz\n",
        "\n",
        "# Installing findspark\n",
        "!pip install -q findspark"
      ]
    },
    {
      "cell_type": "code",
      "source": [
        "# importing OS\n",
        "import os\n",
        "\n",
        "# setting java environment\n",
        "os.environ[\"JAVA_HOME\"] = \"/usr/lib/jvm/java-8-openjdk-amd64\"\n",
        "\n",
        "# setting spark environment\n",
        "os.environ[\"SPARK_HOME\"] = \"spark-3.2.0-bin-hadoop3.2\""
      ],
      "metadata": {
        "id": "EQAewsYAQjME"
      },
      "execution_count": null,
      "outputs": []
    },
    {
      "cell_type": "code",
      "source": [
        "# importing spark\n",
        "import findspark\n",
        "\n",
        "# initializing spark\n",
        "findspark.init()"
      ],
      "metadata": {
        "id": "Aw5gCntVQlEZ"
      },
      "execution_count": null,
      "outputs": []
    },
    {
      "cell_type": "code",
      "source": [
        "# importing spark session\n",
        "from pyspark.sql import SparkSession\n",
        "\n",
        "# creating spark session\n",
        "spark = SparkSession.builder.master(\"local[*]\").getOrCreate()\n",
        "\n",
        "# getting sparkcontext from spark\n",
        "sc = spark.sparkContext\n",
        "\n",
        "# print\n",
        "sc"
      ],
      "metadata": {
        "id": "O-ToOxYIQv2u",
        "colab": {
          "base_uri": "https://localhost:8080/",
          "height": 196
        },
        "outputId": "ea385a0c-f012-4c30-f93b-51a9534fdd44"
      },
      "execution_count": null,
      "outputs": [
        {
          "output_type": "execute_result",
          "data": {
            "text/plain": [
              "<SparkContext master=local[*] appName=pyspark-shell>"
            ],
            "text/html": [
              "\n",
              "        <div>\n",
              "            <p><b>SparkContext</b></p>\n",
              "\n",
              "            <p><a href=\"http://c43617fda62d:4040\">Spark UI</a></p>\n",
              "\n",
              "            <dl>\n",
              "              <dt>Version</dt>\n",
              "                <dd><code>v3.2.0</code></dd>\n",
              "              <dt>Master</dt>\n",
              "                <dd><code>local[*]</code></dd>\n",
              "              <dt>AppName</dt>\n",
              "                <dd><code>pyspark-shell</code></dd>\n",
              "            </dl>\n",
              "        </div>\n",
              "        "
            ]
          },
          "metadata": {},
          "execution_count": 4
        }
      ]
    },
    {
      "cell_type": "code",
      "source": [
        "# importing drive from google colab\n",
        "from google.colab import drive\n",
        "\n",
        "# mounting drive\n",
        "drive.mount('/content/gdrive')"
      ],
      "metadata": {
        "id": "Vj6_8adD4QMD",
        "colab": {
          "base_uri": "https://localhost:8080/"
        },
        "outputId": "72f0dc65-7cf7-4183-cde7-3fbd69013d82"
      },
      "execution_count": null,
      "outputs": [
        {
          "output_type": "stream",
          "name": "stdout",
          "text": [
            "Mounted at /content/gdrive\n"
          ]
        }
      ]
    },
    {
      "cell_type": "code",
      "source": [
        "# path to the text files folder\n",
        "path = '/content/gdrive/MyDrive/data/assignment_1_textfiles/'"
      ],
      "metadata": {
        "id": "bIV_w_UZ4XPF"
      },
      "execution_count": null,
      "outputs": []
    },
    {
      "cell_type": "code",
      "source": [
        "# reading stopwords\n",
        "stopwords = sc.textFile(path + 'stopwords.txt')"
      ],
      "metadata": {
        "id": "8tTIcSaraSXF"
      },
      "execution_count": null,
      "outputs": []
    },
    {
      "cell_type": "code",
      "source": [
        "# collecting the stopwords into a list from an rdd\n",
        "stopwords_list = stopwords.collect()"
      ],
      "metadata": {
        "id": "GWV2PuoM7bFD"
      },
      "execution_count": null,
      "outputs": []
    },
    {
      "cell_type": "code",
      "source": [
        "# defining a function called \"Index_lambda\"\n",
        "def Index_lambda(path,stopwords_list):\n",
        "\n",
        "  # initializing the all_words dictionary to store the results\n",
        "  all_words = {}\n",
        "\n",
        "  # looping through each file in the above path\n",
        "  for file_name in os.listdir(path):\n",
        "\n",
        "    # Checking if the file name matches the expected pattern\n",
        "    if file_name.endswith('.txt.txt'):\n",
        "      file_number = file_name[:-8]\n",
        "    else:\n",
        "      continue\n",
        "\n",
        "    # reading the file content\n",
        "    file_content = sc.textFile(os.path.join(path, file_name))\n",
        "\n",
        "    # process the file content\n",
        "    # splitting the words and converting them to lower case\n",
        "    rdd1 = file_content.flatMap(lambda x: x.lower().split())\n",
        "\n",
        "    # filtering the words and removing stopwords\n",
        "    rdd1 = rdd1.filter(lambda x:x not in stopwords_list)\n",
        "\n",
        "    # mapping 1 to all the words\n",
        "    mapped_Rdd = rdd1.map(lambda x: (x, 1))\n",
        "\n",
        "    # counting the keys\n",
        "    count_rdd = mapped_Rdd.countByKey()\n",
        "\n",
        "\n",
        "\n",
        "    # formating the output\n",
        "    for word, count in count_rdd.items():\n",
        "\n",
        "        # appending the all words together\n",
        "        if word in all_words:\n",
        "            all_words[word].append((file_number, count))\n",
        "        else:\n",
        "            all_words[word] = [(file_number, count)]\n",
        "\n",
        "  return all_words"
      ],
      "metadata": {
        "id": "BWPg_JugPWsu"
      },
      "execution_count": null,
      "outputs": []
    },
    {
      "cell_type": "code",
      "source": [
        "# calling the function\n",
        "dictionary_lambda = Index_lambda(path, stopwords_list)"
      ],
      "metadata": {
        "id": "CsU66ckHUMJg"
      },
      "execution_count": null,
      "outputs": []
    },
    {
      "cell_type": "code",
      "source": [
        "#print\n",
        "dictionary_lambda"
      ],
      "metadata": {
        "id": "EI4vkq8bOP1x"
      },
      "execution_count": null,
      "outputs": []
    },
    {
      "cell_type": "code",
      "source": [
        "# defining a function called \"Index_lambda\"\n",
        "def Index_without_lambda(path,stopwords_list):\n",
        "\n",
        "  # initializing the all_words dictionary to store the results\n",
        "  all_words = {}\n",
        "\n",
        "  # looping through each file in the above path\n",
        "  for file_name in os.listdir(path):\n",
        "\n",
        "    # Checking if the file name matches the expected pattern\n",
        "    if file_name.endswith('.txt.txt'):\n",
        "      file_number = file_name[:-8]\n",
        "    else:\n",
        "      continue\n",
        "\n",
        "    # reading the file content\n",
        "    file_content = sc.textFile(os.path.join(path, file_name))\n",
        "\n",
        "    # process the file content\n",
        "    # splitting the words and converting them to lower case\n",
        "    def lower_split(x):\n",
        "      return x.lower().split()\n",
        "\n",
        "    rdd1 = file_content.flatMap(lower_split)\n",
        "\n",
        "    # filtering the words and removing stopwords\n",
        "    def filter_words(x):\n",
        "      return x not in stopwords_list\n",
        "\n",
        "    rdd1 = rdd1.filter(filter_words)\n",
        "\n",
        "    # mapping 1 to all the words\n",
        "    def mapping(x):\n",
        "      return(x,1)\n",
        "    mapped_Rdd = rdd1.map(mapping)\n",
        "\n",
        "    # counting the keys\n",
        "    count_rdd = mapped_Rdd.countByKey()\n",
        "\n",
        "    # formating the output\n",
        "    for word, count in count_rdd.items():\n",
        "\n",
        "        # appending the all words together\n",
        "        if word in all_words:\n",
        "            all_words[word].append((file_number, count))\n",
        "        else:\n",
        "            all_words[word] = [(file_number, count)]\n",
        "\n",
        "  return all_words"
      ],
      "metadata": {
        "id": "eJCaMp0sDSgE"
      },
      "execution_count": null,
      "outputs": []
    },
    {
      "cell_type": "code",
      "source": [
        "# calling the function\n",
        "dictionary_without_lambda = Index_without_lambda(path, stopwords_list)"
      ],
      "metadata": {
        "id": "ikK6DO-oFC3b"
      },
      "execution_count": null,
      "outputs": []
    },
    {
      "cell_type": "code",
      "source": [
        "# print\n",
        "dictionary_without_lambda"
      ],
      "metadata": {
        "id": "cDfWxmbsOZAK"
      },
      "execution_count": null,
      "outputs": []
    },
    {
      "cell_type": "code",
      "source": [
        "# taking the query from user input\n",
        "query = input(\"Enter your query:\")"
      ],
      "metadata": {
        "colab": {
          "base_uri": "https://localhost:8080/"
        },
        "id": "1TVccrwreVMp",
        "outputId": "201ea13a-2add-4c70-892c-8468a0e726e1"
      },
      "execution_count": null,
      "outputs": [
        {
          "name": "stdout",
          "output_type": "stream",
          "text": [
            "Enter your query:many years\n"
          ]
        }
      ]
    },
    {
      "cell_type": "code",
      "source": [
        "# defining search function\n",
        "# takes query, index, stopwords_list as argument\n",
        "def search(query, index, stopwords_list):\n",
        "\n",
        "  # spliting the query\n",
        "  split_query = query.split()\n",
        "\n",
        "  # converting the split query into an rdd\n",
        "  rdd_query = sc.parallelize(split_query)\n",
        "\n",
        "  # mapping them to lower case\n",
        "  query_words = rdd_query.map(lambda x: x.lower())\n",
        "\n",
        "  # filtering the words from stopwords\n",
        "  filtered = query_words.filter(lambda x:x not in stopwords_list)\n",
        "\n",
        "  # creating an empty dictionary to store the scores\n",
        "  doc_scores = {}\n",
        "\n",
        "  # looping through each word in the filtered query\n",
        "  for i in filtered.collect():\n",
        "\n",
        "      # checking if the word is in index\n",
        "      if i in index:\n",
        "\n",
        "          # looping through elements of each index\n",
        "          for id, frequency in index[i]:\n",
        "\n",
        "              # if id is in doc_scores dictionary add the frequency of the word\n",
        "              if id in doc_scores:\n",
        "                  doc_scores[id] += frequency\n",
        "\n",
        "              # else add the id and frequency to the dictionary\n",
        "              else:\n",
        "                  doc_scores[id] = frequency\n",
        "\n",
        "  # Filter documents with scores greater than zero\n",
        "  result = [(id, score) for id, score in doc_scores.items() if score > 0]\n",
        "\n",
        "  # Sort the result in descending order of scores\n",
        "  result.sort(key=lambda x: x[1], reverse=True)\n",
        "\n",
        "  # returning it as\n",
        "  return {query:result}"
      ],
      "metadata": {
        "id": "lzLj25xPcht2"
      },
      "execution_count": null,
      "outputs": []
    },
    {
      "cell_type": "code",
      "source": [
        "#calling the search function on a query\n",
        "search(query,dictionary_lambda,stopwords_list)"
      ],
      "metadata": {
        "colab": {
          "base_uri": "https://localhost:8080/"
        },
        "id": "Eq0YtTFGhZ9o",
        "outputId": "791bd8dc-09db-403f-d4cb-4c67da828529"
      },
      "execution_count": null,
      "outputs": [
        {
          "output_type": "execute_result",
          "data": {
            "text/plain": [
              "{'many years': [('16', 2),\n",
              "  ('08', 2),\n",
              "  ('14', 2),\n",
              "  ('18', 2),\n",
              "  ('12', 1),\n",
              "  ('05', 1),\n",
              "  ('07', 1),\n",
              "  ('09', 1),\n",
              "  ('15', 1)]}"
            ]
          },
          "metadata": {},
          "execution_count": 140
        }
      ]
    },
    {
      "cell_type": "code",
      "source": [
        "#calling the search function on a query\n",
        "search(query,dictionary_without_lambda,stopwords_list)"
      ],
      "metadata": {
        "colab": {
          "base_uri": "https://localhost:8080/"
        },
        "id": "SBSz2aCuhoao",
        "outputId": "19c2d0dd-0654-47ac-801b-4041675b12f1"
      },
      "execution_count": null,
      "outputs": [
        {
          "output_type": "execute_result",
          "data": {
            "text/plain": [
              "{'many years': [('16', 2),\n",
              "  ('08', 2),\n",
              "  ('14', 2),\n",
              "  ('18', 2),\n",
              "  ('12', 1),\n",
              "  ('05', 1),\n",
              "  ('07', 1),\n",
              "  ('09', 1),\n",
              "  ('15', 1)]}"
            ]
          },
          "metadata": {},
          "execution_count": 145
        }
      ]
    },
    {
      "cell_type": "code",
      "source": [
        "coordinates = sc.parallelize([(1,2), (3,4), (0,0)])"
      ],
      "metadata": {
        "id": "U9jsZXNHOEGC"
      },
      "execution_count": null,
      "outputs": []
    },
    {
      "cell_type": "code",
      "source": [
        "coordinates.collect()"
      ],
      "metadata": {
        "colab": {
          "base_uri": "https://localhost:8080/"
        },
        "id": "aBao2EcGOn3A",
        "outputId": "cd830049-0213-4b8f-f49e-60d88ba437ba"
      },
      "execution_count": null,
      "outputs": [
        {
          "output_type": "execute_result",
          "data": {
            "text/plain": [
              "[(1, 2), (3, 4), (0, 0)]"
            ]
          },
          "metadata": {},
          "execution_count": 42
        }
      ]
    },
    {
      "cell_type": "code",
      "source": [
        "def is_within_bounded_box(point):\n",
        "    x, y = point\n",
        "    return abs(x) <= 1 and abs(y) <= 1"
      ],
      "metadata": {
        "id": "KvEI42oBOo2A"
      },
      "execution_count": null,
      "outputs": []
    },
    {
      "cell_type": "code",
      "source": [
        "points_within_box = coordinates.filter(is_within_bounded_box)"
      ],
      "metadata": {
        "id": "O3FTgdB3O3tm"
      },
      "execution_count": null,
      "outputs": []
    },
    {
      "cell_type": "code",
      "source": [
        "count_within_box = points_within_box.count()"
      ],
      "metadata": {
        "id": "vlXThSPrO5mO"
      },
      "execution_count": null,
      "outputs": []
    },
    {
      "cell_type": "code",
      "source": [
        "print(\"Number of points within the bounded box:\", count_within_box)"
      ],
      "metadata": {
        "id": "l9pLj_yMO9uJ",
        "outputId": "a44661a9-acac-4251-d736-67f48ecc98db",
        "colab": {
          "base_uri": "https://localhost:8080/"
        }
      },
      "execution_count": null,
      "outputs": [
        {
          "output_type": "stream",
          "name": "stdout",
          "text": [
            "Number of points within the bounded box: 1\n"
          ]
        }
      ]
    },
    {
      "cell_type": "code",
      "source": [],
      "metadata": {
        "id": "qyNd8j2QO__T"
      },
      "execution_count": null,
      "outputs": []
    }
  ]
}